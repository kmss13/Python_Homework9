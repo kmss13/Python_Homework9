{
  "nbformat": 4,
  "nbformat_minor": 0,
  "metadata": {
    "colab": {
      "provenance": [],
      "toc_visible": true
    },
    "kernelspec": {
      "name": "python3",
      "display_name": "Python 3"
    },
    "language_info": {
      "name": "python"
    }
  },
  "cells": [
    {
      "cell_type": "code",
      "source": [
        "import pandas as pd"
      ],
      "metadata": {
        "id": "WB6yBUdxbl12"
      },
      "execution_count": 8,
      "outputs": []
    },
    {
      "cell_type": "code",
      "execution_count": 52,
      "metadata": {
        "colab": {
          "base_uri": "https://localhost:8080/"
        },
        "id": "9DqMsH3LXZaI",
        "outputId": "0b332d58-fa0b-457f-bfb8-0a0dab0c9bf2"
      },
      "outputs": [
        {
          "output_type": "execute_result",
          "data": {
            "text/plain": [
              "206683.83635227982"
            ]
          },
          "metadata": {},
          "execution_count": 52
        }
      ],
      "source": [
        "from numpy.core.fromnumeric import mean\n",
        "df = pd.read_csv('sample_data/california_housing_train.csv')\n",
        "#Определить среднюю стоимость дома, где кол-во людей от 0 до 500 (population).\n",
        "\n",
        "df[df['population'] < 500]['median_house_value'].mean()\n",
        "\n"
      ]
    },
    {
      "cell_type": "code",
      "source": [
        "#Узнать какая максимальная households в зоне минимального значения population.\n",
        "\n",
        "df[df['population'] == df['population'].min()]['households'].max()"
      ],
      "metadata": {
        "colab": {
          "base_uri": "https://localhost:8080/"
        },
        "id": "2jg6qcY0bkOn",
        "outputId": "83881a4b-a7b2-4bd7-98ae-7aa3d5797fda"
      },
      "execution_count": 51,
      "outputs": [
        {
          "output_type": "execute_result",
          "data": {
            "text/plain": [
              "4.0"
            ]
          },
          "metadata": {},
          "execution_count": 51
        }
      ]
    }
  ]
}